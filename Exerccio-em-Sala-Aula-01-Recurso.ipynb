{
 "cells": [
  {
   "attachments": {},
   "cell_type": "markdown",
   "metadata": {},
   "source": [
    "## **Exercício em Sala 01 - Problemas com Recursão**\n",
    "### DCC 405 - Estrutura de Dados II - Prof. Acauan\n",
    "Esta tarefa é uma variedade de pequenos problemas para você começar a se acostumar com a ideia de recursão. \n",
    "\n",
    "______\n",
    "### **Problema 1**\n",
    "\n",
    "**Escreva uma função recursiva que recebe um número inteiro e calcula a soma cumulativa de 0 para esse número inteiro**\n",
    "\n",
    "**Por exemplo, se n=4 , retorne 4+3+2+1+0, que é 10.**\n",
    "\n",
    "Este problema é muito semelhante ao problema fatorial apresentado durante a introdução à recursão. Lembre-se, sempre pense em como será o caso base. Nesse caso, temos um caso base de n = 0 (Observação, você também poderia ter projetado o corte para ser 1).\n",
    "\n",
    "Neste caso, temos:\n",
    "    n + (n-1) + (n-2) + .... + 0\n",
    "\n",
    "Preencha uma solução de exemplo:"
   ]
  },
  {
   "cell_type": "code",
   "execution_count": 1,
   "metadata": {},
   "outputs": [],
   "source": [
    "def rec_sum(n):\n",
    "  if(n == 0):\n",
    "    return n\n",
    "  else:\n",
    "    return n + rec_sum(n-1)\n"
   ]
  },
  {
   "cell_type": "code",
   "execution_count": 2,
   "metadata": {},
   "outputs": [
    {
     "data": {
      "text/plain": [
       "10"
      ]
     },
     "execution_count": 2,
     "metadata": {},
     "output_type": "execute_result"
    }
   ],
   "source": [
    "rec_sum(4)"
   ]
  },
  {
   "attachments": {},
   "cell_type": "markdown",
   "metadata": {},
   "source": [
    "______\n",
    "### **Problema 2**\n",
    "\n",
    "Dado um inteiro, crie uma função que retorne a soma de todos os dígitos individuais desse inteiro. \n",
    "  **Por exemplo: se n = 4321, retorna 4+3+2+1 = 10**"
   ]
  },
  {
   "cell_type": "code",
   "execution_count": 1,
   "metadata": {},
   "outputs": [],
   "source": [
    "def sum_func(n):\n",
    "# implementar...\n",
    "  pass"
   ]
  },
  {
   "cell_type": "code",
   "execution_count": 2,
   "metadata": {},
   "outputs": [
    {
     "data": {
      "text/plain": [
       "14"
      ]
     },
     "execution_count": 2,
     "metadata": {},
     "output_type": "execute_result"
    }
   ],
   "source": [
    "sum_func(5432)"
   ]
  },
  {
   "attachments": {},
   "cell_type": "markdown",
   "metadata": {},
   "source": [
    "________\n",
    "### **Problema 3**\n",
    "*Nota, este é um problema mais avançado do que os dois anteriores! Ele também tem muitas possibilidades de variação e estamos ignorando requisitos estritos aqui.*\n",
    "\n",
    "Crie uma função chamada word_split() que recebe uma string **frase** e um conjunto **list_of_words**. A função então determinará se é possível dividir a string de forma que as palavras possam ser feitas a partir da lista de palavras. Você pode presumir que a frase conterá apenas palavras encontradas no dicionário se for totalmente divisível.\n",
    "\n",
    "Por exemplo:"
   ]
  },
  {
   "cell_type": "code",
   "execution_count": null,
   "metadata": {},
   "outputs": [],
   "source": [
    "word_split('themanran',['the','ran','man'])\n",
    "# Saida: ['the', 'man', 'ran']"
   ]
  },
  {
   "cell_type": "code",
   "execution_count": null,
   "metadata": {},
   "outputs": [],
   "source": [
    "word_split('ilovedogsJohn',['i','am','a','dogs','lover','love','John'])\n",
    "# Saída: ['i', 'love', 'dogs', 'John']"
   ]
  },
  {
   "cell_type": "code",
   "execution_count": null,
   "metadata": {},
   "outputs": [],
   "source": [
    "word_split('themanran',['clown','ran','man'])\n",
    "# Saída: []"
   ]
  },
  {
   "cell_type": "code",
   "execution_count": 4,
   "metadata": {},
   "outputs": [],
   "source": [
    "# Resposta Problema 3:\n",
    "def word_split(phrase,list_of_words, output = None):\n",
    "  # implementar...\n",
    "  pass"
   ]
  }
 ],
 "metadata": {
  "kernelspec": {
   "display_name": "Python 3",
   "language": "python",
   "name": "python3"
  },
  "language_info": {
   "codemirror_mode": {
    "name": "ipython",
    "version": 3
   },
   "file_extension": ".py",
   "mimetype": "text/x-python",
   "name": "python",
   "nbconvert_exporter": "python",
   "pygments_lexer": "ipython3",
   "version": "3.8.10"
  },
  "orig_nbformat": 4
 },
 "nbformat": 4,
 "nbformat_minor": 2
}
